{
 "cells": [
  {
   "cell_type": "code",
   "execution_count": 11,
   "metadata": {},
   "outputs": [],
   "source": [
    "import pandas as pd\n",
    "import numpy as np"
   ]
  },
  {
   "cell_type": "code",
   "execution_count": 16,
   "metadata": {},
   "outputs": [
    {
     "data": {
      "text/html": [
       "<div>\n",
       "<style scoped>\n",
       "    .dataframe tbody tr th:only-of-type {\n",
       "        vertical-align: middle;\n",
       "    }\n",
       "\n",
       "    .dataframe tbody tr th {\n",
       "        vertical-align: top;\n",
       "    }\n",
       "\n",
       "    .dataframe thead th {\n",
       "        text-align: right;\n",
       "    }\n",
       "</style>\n",
       "<table border=\"1\" class=\"dataframe\">\n",
       "  <thead>\n",
       "    <tr style=\"text-align: right;\">\n",
       "      <th></th>\n",
       "      <th>class</th>\n",
       "      <th>text</th>\n",
       "    </tr>\n",
       "  </thead>\n",
       "  <tbody>\n",
       "    <tr>\n",
       "      <th>83156</th>\n",
       "      <td>2</td>\n",
       "      <td>weekend mi gente, kisses from @user #pueobanus</td>\n",
       "    </tr>\n",
       "    <tr>\n",
       "      <th>43519</th>\n",
       "      <td>1</td>\n",
       "      <td>@MadameCurry_ what kind of hoe are you dressin...</td>\n",
       "    </tr>\n",
       "    <tr>\n",
       "      <th>10</th>\n",
       "      <td>1</td>\n",
       "      <td>\" Keeks is a bitch she curves everyone \" lol I...</td>\n",
       "    </tr>\n",
       "    <tr>\n",
       "      <th>115741</th>\n",
       "      <td>0</td>\n",
       "      <td>@DAY6yoongi stop ur just fucking mean u hate m...</td>\n",
       "    </tr>\n",
       "    <tr>\n",
       "      <th>61492</th>\n",
       "      <td>0</td>\n",
       "      <td>Lot of people in JNU are in need of serious ps...</td>\n",
       "    </tr>\n",
       "  </tbody>\n",
       "</table>\n",
       "</div>"
      ],
      "text/plain": [
       "        class                                               text\n",
       "83156       2    weekend mi gente, kisses from @user #pueobanus \n",
       "43519       1  @MadameCurry_ what kind of hoe are you dressin...\n",
       "10          1  \" Keeks is a bitch she curves everyone \" lol I...\n",
       "115741      0  @DAY6yoongi stop ur just fucking mean u hate m...\n",
       "61492       0  Lot of people in JNU are in need of serious ps..."
      ]
     },
     "execution_count": 16,
     "metadata": {},
     "output_type": "execute_result"
    }
   ],
   "source": [
    "data = pd.read_csv(\"labeled_data.csv\", encoding=\"latin-1\")\n",
    "data = data.reindex(np.random.permutation(data.index))\n",
    "data.columns=[\"class\",\"text\"]\n",
    "data.head()"
   ]
  },
  {
   "cell_type": "code",
   "execution_count": null,
   "metadata": {},
   "outputs": [],
   "source": []
  }
 ],
 "metadata": {
  "kernelspec": {
   "display_name": "Python 3",
   "language": "python",
   "name": "python3"
  },
  "language_info": {
   "codemirror_mode": {
    "name": "ipython",
    "version": 3
   },
   "file_extension": ".py",
   "mimetype": "text/x-python",
   "name": "python",
   "nbconvert_exporter": "python",
   "pygments_lexer": "ipython3",
   "version": "3.8.3"
  }
 },
 "nbformat": 4,
 "nbformat_minor": 2
}
